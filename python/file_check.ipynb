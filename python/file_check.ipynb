{
 "cells": [
  {
   "cell_type": "code",
   "execution_count": 8,
   "metadata": {},
   "outputs": [],
   "source": [
    "import pandas as pd\n",
    "from os.path import exists"
   ]
  },
  {
   "cell_type": "code",
   "execution_count": 22,
   "metadata": {},
   "outputs": [
    {
     "name": "stderr",
     "output_type": "stream",
     "text": [
      "17.49s - Error inserting pydevd breaks.\n",
      "Traceback (most recent call last):\n",
      "  File \"e:\\Code\\kaggle\\digits\\python\\env\\lib\\site-packages\\debugpy\\_vendored\\pydevd\\_pydevd_frame_eval\\pydevd_modify_bytecode.py\", line 328, in insert_pydevd_breaks\n",
      "    for new_instruction in get_instructions_to_add(\n",
      "  File \"e:\\Code\\kaggle\\digits\\python\\env\\lib\\site-packages\\debugpy\\_vendored\\pydevd\\_pydevd_frame_eval\\pydevd_modify_bytecode.py\", line 102, in get_instructions_to_add\n",
      "    Instr(\"LOAD_CONST\", _pydev_stop_at_break, lineno=stop_at_line - 1),\n",
      "  File \"e:\\Code\\kaggle\\digits\\python\\env\\lib\\site-packages\\debugpy\\_vendored\\pydevd\\_pydevd_frame_eval\\vendored\\bytecode\\instr.py\", line 171, in __init__\n",
      "    self._set(name, arg, lineno)\n",
      "  File \"e:\\Code\\kaggle\\digits\\python\\env\\lib\\site-packages\\debugpy\\_vendored\\pydevd\\_pydevd_frame_eval\\vendored\\bytecode\\instr.py\", line 239, in _set\n",
      "    _check_lineno(lineno)\n",
      "  File \"e:\\Code\\kaggle\\digits\\python\\env\\lib\\site-packages\\debugpy\\_vendored\\pydevd\\_pydevd_frame_eval\\vendored\\bytecode\\instr.py\", line 74, in _check_lineno\n",
      "    raise ValueError(\"invalid lineno\")\n",
      "ValueError: invalid lineno\n"
     ]
    }
   ],
   "source": [
    "counter = 0\n",
    "folder = \"E:/Code/kaggle/digits/data/mess/\"\n",
    "extn1 = \"neuron_values\"\n",
    "extn2 = \"neuron_values\"\n",
    "\n",
    "file1 = folder + extn1 + \"_\" + str(counter) + \"_fast.csv\"\n",
    "file2 = folder + extn2 + \"_\" + str(counter) + \"_base.csv\"\n",
    "fileexists = exists(file1)\n",
    "num_checked = 0\n",
    "while fileexists and num_checked < 10:\n",
    "    df1 = pd.read_csv(file1, header=None)\n",
    "    df2 = pd.read_csv(file2, header=None)\n",
    "    if df1.equals(df2):\n",
    "        print(\"Example \" + str(i) + \" matches\")\n",
    "    else:\n",
    "        print(\"Example \" + str(i) + \" does not match\")\n",
    "    counter = counter + 1\n",
    "    file1 = folder + extn1 + \"_\" + str(counter) + \"_fast.csv\"\n",
    "    file2 = folder + extn2 + \"_\" + str(counter) + \"_base.csv\"\n",
    "    fileexists = exists(file1)\n",
    "\n"
   ]
  },
  {
   "cell_type": "code",
   "execution_count": null,
   "metadata": {},
   "outputs": [],
   "source": []
  }
 ],
 "metadata": {
  "kernelspec": {
   "display_name": "Python 3.10.4 ('env': venv)",
   "language": "python",
   "name": "python3"
  },
  "language_info": {
   "codemirror_mode": {
    "name": "ipython",
    "version": 3
   },
   "file_extension": ".py",
   "mimetype": "text/x-python",
   "name": "python",
   "nbconvert_exporter": "python",
   "pygments_lexer": "ipython3",
   "version": "3.10.4"
  },
  "orig_nbformat": 4,
  "vscode": {
   "interpreter": {
    "hash": "b2ab2034122c39472c56901cfa84dd49cdbabb04de34f4eea7c7aca03b70e790"
   }
  }
 },
 "nbformat": 4,
 "nbformat_minor": 2
}
